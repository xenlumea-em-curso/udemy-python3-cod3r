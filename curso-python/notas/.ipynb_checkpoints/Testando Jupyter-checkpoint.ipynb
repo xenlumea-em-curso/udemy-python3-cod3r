{
 "cells": [
  {
   "cell_type": "code",
   "execution_count": 1,
   "id": "cc9deed9",
   "metadata": {},
   "outputs": [
    {
     "data": {
      "text/plain": [
       "1"
      ]
     },
     "execution_count": 1,
     "metadata": {},
     "output_type": "execute_result"
    }
   ],
   "source": [
    "1 + 2 + 3\n",
    "3 // 2"
   ]
  },
  {
   "cell_type": "code",
   "execution_count": 2,
   "id": "7eeab623",
   "metadata": {},
   "outputs": [
    {
     "name": "stdout",
     "output_type": "stream",
     "text": [
      "256\n",
      "8\n"
     ]
    }
   ],
   "source": [
    "print(2 ** 8)\n",
    "print(3 + 5)"
   ]
  },
  {
   "cell_type": "code",
   "execution_count": 3,
   "id": "7506f0b4",
   "metadata": {},
   "outputs": [
    {
     "name": "stdout",
     "output_type": "stream",
     "text": [
      "teste jupyter!\n"
     ]
    }
   ],
   "source": [
    "print('teste jupyter!')"
   ]
  },
  {
   "cell_type": "markdown",
   "id": "736c62b8",
   "metadata": {},
   "source": [
    "# 1. Essa é uma nota muito legal\n",
    "\n",
    "## 1.1 Muito legal essa posssibilidade"
   ]
  },
  {
   "cell_type": "markdown",
   "id": "66c6460c",
   "metadata": {},
   "source": [
    "# Operadores"
   ]
  },
  {
   "cell_type": "code",
   "execution_count": 4,
   "id": "d9c47e07",
   "metadata": {},
   "outputs": [
    {
     "data": {
      "text/plain": [
       "3"
      ]
     },
     "execution_count": 4,
     "metadata": {},
     "output_type": "execute_result"
    }
   ],
   "source": [
    "1 + 2"
   ]
  },
  {
   "cell_type": "code",
   "execution_count": 5,
   "id": "1085de87",
   "metadata": {},
   "outputs": [
    {
     "data": {
      "text/plain": [
       "8"
      ]
     },
     "execution_count": 5,
     "metadata": {},
     "output_type": "execute_result"
    }
   ],
   "source": [
    "2 * 4"
   ]
  },
  {
   "cell_type": "code",
   "execution_count": null,
   "id": "d8bceb93",
   "metadata": {},
   "outputs": [],
   "source": [
    "3 / 5"
   ]
  },
  {
   "cell_type": "markdown",
   "id": "ca7853d8",
   "metadata": {},
   "source": [
    "# Estruturas de Controle "
   ]
  },
  {
   "cell_type": "code",
   "execution_count": null,
   "id": "5db70225",
   "metadata": {},
   "outputs": [],
   "source": [
    "help(print)"
   ]
  },
  {
   "cell_type": "code",
   "execution_count": null,
   "id": "5c6beb7f",
   "metadata": {},
   "outputs": [],
   "source": [
    "a = 2"
   ]
  },
  {
   "cell_type": "code",
   "execution_count": null,
   "id": "89fed7bc",
   "metadata": {},
   "outputs": [],
   "source": [
    "b = 3"
   ]
  },
  {
   "cell_type": "code",
   "execution_count": null,
   "id": "3729ec3b",
   "metadata": {},
   "outputs": [],
   "source": [
    "a + b"
   ]
  },
  {
   "cell_type": "code",
   "execution_count": null,
   "id": "7923cd80",
   "metadata": {},
   "outputs": [],
   "source": [
    "_ ** 3"
   ]
  },
  {
   "cell_type": "code",
   "execution_count": null,
   "id": "2049f60f",
   "metadata": {},
   "outputs": [],
   "source": [
    "_ / 5"
   ]
  },
  {
   "cell_type": "code",
   "execution_count": null,
   "id": "8ba82346",
   "metadata": {},
   "outputs": [],
   "source": [
    "a = 3\n",
    "b = 7\n",
    "\n",
    "a,b = b,a\n",
    "print(a, b)"
   ]
  }
 ],
 "metadata": {
  "kernelspec": {
   "display_name": "Python 3 (ipykernel)",
   "language": "python",
   "name": "python3"
  },
  "language_info": {
   "codemirror_mode": {
    "name": "ipython",
    "version": 3
   },
   "file_extension": ".py",
   "mimetype": "text/x-python",
   "name": "python",
   "nbconvert_exporter": "python",
   "pygments_lexer": "ipython3",
   "version": "3.9.7"
  }
 },
 "nbformat": 4,
 "nbformat_minor": 5
}
