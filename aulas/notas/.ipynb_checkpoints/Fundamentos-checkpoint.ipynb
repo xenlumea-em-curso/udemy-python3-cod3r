{
 "cells": [
  {
   "cell_type": "code",
   "execution_count": 1,
   "id": "1db16e81",
   "metadata": {},
   "outputs": [
    {
     "data": {
      "text/plain": [
       "4"
      ]
     },
     "execution_count": 1,
     "metadata": {},
     "output_type": "execute_result"
    }
   ],
   "source": [
    "1 + 3"
   ]
  },
  {
   "cell_type": "code",
   "execution_count": 2,
   "id": "8f3e550d",
   "metadata": {},
   "outputs": [
    {
     "data": {
      "text/plain": [
       "'Cod3r Cod3r Cod3r '"
      ]
     },
     "execution_count": 2,
     "metadata": {},
     "output_type": "execute_result"
    }
   ],
   "source": [
    "3 * 'Cod3r '"
   ]
  },
  {
   "cell_type": "markdown",
   "id": "9bd793be",
   "metadata": {},
   "source": [
    "# Comentário"
   ]
  }
 ],
 "metadata": {
  "kernelspec": {
   "display_name": "Python 3 (ipykernel)",
   "language": "python",
   "name": "python3"
  },
  "language_info": {
   "codemirror_mode": {
    "name": "ipython",
    "version": 3
   },
   "file_extension": ".py",
   "mimetype": "text/x-python",
   "name": "python",
   "nbconvert_exporter": "python",
   "pygments_lexer": "ipython3",
   "version": "3.9.7"
  }
 },
 "nbformat": 4,
 "nbformat_minor": 5
}
